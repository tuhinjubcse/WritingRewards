{
 "cells": [
  {
   "cell_type": "code",
   "execution_count": 1,
   "metadata": {},
   "outputs": [
    {
     "data": {
      "text/plain": [
       "['models/gemini-1.0-pro-001', 'models/gemini-1.5-flash-001-tuning']"
      ]
     },
     "execution_count": 1,
     "metadata": {},
     "output_type": "execute_result"
    }
   ],
   "source": [
    "import google.generativeai as genai, json\n",
    "from matplotlib import pyplot as plt\n",
    "import time, pandas as pd\n",
    "from utils import load_env_vars\n",
    "\n",
    "load_env_vars()\n",
    "\n",
    "base_models = [m.name for m in genai.list_models() if \"createTunedModel\" in m.supported_generation_methods]\n",
    "base_models"
   ]
  },
  {
   "cell_type": "code",
   "execution_count": 3,
   "metadata": {},
   "outputs": [
    {
     "name": "stdout",
     "output_type": "stream",
     "text": [
      "lamp-gem-1p5-flash-r\n"
     ]
    }
   ],
   "source": [
    "for base_model, short_model in [(\"models/gemini-1.5-flash-001-tuning\", \"1p5-flash\")]: # , (\"models/gemini-1.0-pro-001\", \"1p0-pro\")\n",
    "    for dataset_types in [\"R\"]: # \"PR\", \"R\"\n",
    "        model_name = f\"lamp-gem-{short_model}-{dataset_types.lower()}\"\n",
    "        print(model_name)\n",
    "\n",
    "        with open(f\"data/finetune_{dataset_types}_train.json\", \"r\") as f:\n",
    "            training_data = json.load(f)\n",
    "\n",
    "    operation = genai.create_tuned_model(source_model=base_model, training_data=training_data, id=model_name, epoch_count=4, batch_size=4, learning_rate=0.001)"
   ]
  },
  {
   "cell_type": "code",
   "execution_count": 3,
   "metadata": {},
   "outputs": [
    {
     "data": {
      "application/vnd.jupyter.widget-view+json": {
       "model_id": "0376b2ad58144df3b70617e1d36853c4",
       "version_major": 2,
       "version_minor": 0
      },
      "text/plain": [
       "  0%|          | 0/1786 [00:00<?, ?it/s]"
      ]
     },
     "metadata": {},
     "output_type": "display_data"
    },
    {
     "data": {
      "image/png": "[encoded data removed]",
      "text/plain": [
       "<Figure size 432x288 with 1 Axes>"
      ]
     },
     "metadata": {
      "needs_background": "light"
     },
     "output_type": "display_data"
    }
   ],
   "source": [
    "for status in operation.wait_bar():\n",
    "    time.sleep(30)\n",
    "\n",
    "model = operation.result()\n",
    "snapshots = pd.DataFrame(model.tuning_task.snapshots)\n",
    "\n",
    "plt.plot(snapshots['step'].tolist(), snapshots['mean_loss'].tolist())\n",
    "plt.show()"
   ]
  }
 ],
 "metadata": {
  "kernelspec": {
   "display_name": "base",
   "language": "python",
   "name": "python3"
  },
  "language_info": {
   "codemirror_mode": {
    "name": "ipython",
    "version": 3
   },
   "file_extension": ".py",
   "mimetype": "text/x-python",
   "name": "python",
   "nbconvert_exporter": "python",
   "pygments_lexer": "ipython3",
   "version": "3.9.12"
  }
 },
 "nbformat": 4,
 "nbformat_minor": 2
}
