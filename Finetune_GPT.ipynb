{
 "cells": [
  {
   "cell_type": "code",
   "execution_count": 1,
   "metadata": {},
   "outputs": [],
   "source": [
    "from utils import load_env_vars\n",
    "from openai import OpenAI\n",
    "import time, json, os, tqdm\n",
    "\n",
    "load_env_vars()\n",
    "\n",
    "# Initialize OpenAI client\n",
    "client = OpenAI(api_key=os.environ['OPENAI_API_KEY'])"
   ]
  },
  {
   "cell_type": "code",
   "execution_count": 2,
   "metadata": {},
   "outputs": [
    {
     "name": "stdout",
     "output_type": "stream",
     "text": [
      "dict_keys(['original_id', 'split', 'source', 'type', 'sample_type', 'paragraph1', 'paragraph2', 'reference_preference', 'text_input', 'output', 'id'])\n"
     ]
    },
    {
     "data": {
      "text/plain": [
       "'data/finetune_P_train_gpt_format.jsonl'"
      ]
     },
     "execution_count": 2,
     "metadata": {},
     "output_type": "execute_result"
    }
   ],
   "source": [
    "from utils_gpt import prepare_training_data\n",
    "\n",
    "task = \"R\"\n",
    "\n",
    "train_input_fn = f\"data/finetune_{task}_train.json\"\n",
    "train_output_fn = f\"data/finetune_{task}_train_gpt_format.jsonl\"\n",
    "\n",
    "prepare_training_data(train_input_fn, train_output_fn)"
   ]
  },
  {
   "cell_type": "code",
   "execution_count": 3,
   "metadata": {},
   "outputs": [
    {
     "data": {
      "text/plain": [
       "FileObject(id='file-dhox0F9EpP5FBS2GDQOGN83C', bytes=4892222, created_at=1731273320, filename='finetune_P_train_gpt_format.jsonl', object='file', purpose='fine-tune', status='processed', status_details=None)"
      ]
     },
     "execution_count": 3,
     "metadata": {},
     "output_type": "execute_result"
    }
   ],
   "source": [
    "training_file = client.files.create(file=open(train_output_fn, 'rb'), purpose='fine-tune')\n",
    "\n",
    "training_file"
   ]
  },
  {
   "cell_type": "code",
   "execution_count": null,
   "metadata": {},
   "outputs": [],
   "source": [
    "base_model = \"gpt-4o-mini-2024-07-18\"\n",
    "suffix = f\"lamp-4o-mini-{task}\"\n",
    "\n",
    "job = client.fine_tuning.jobs.create(training_file=training_file.id, model=base_model, suffix=suffix)"
   ]
  },
  {
   "cell_type": "code",
   "execution_count": 12,
   "metadata": {},
   "outputs": [
    {
     "name": "stdout",
     "output_type": "stream",
     "text": [
      "[2024-11-10 16:55:19] Status: succeeded\n",
      "[2024-11-10 16:55:19] Fine-tuning job completed successfully\n",
      "Model: ft:gpt-4o-mini-2024-07-18:tobias-schnabel::ASAA2MGu\n"
     ]
    }
   ],
   "source": [
    "from datetime import datetime\n",
    "\n",
    "while True:\n",
    "    job_status = client.fine_tuning.jobs.retrieve(job.id)\n",
    "    if job_status.status == \"running\":\n",
    "        estimated_completion = datetime.fromtimestamp(job_status.estimated_finish)\n",
    "        print(f\"[{datetime.now().strftime('%Y-%m-%d %H:%M:%S')}] Status: {job_status.status}, Estimated completion: {estimated_completion}\")\n",
    "    else:\n",
    "        print(f\"[{datetime.now().strftime('%Y-%m-%d %H:%M:%S')}] Status: {job_status.status}\")\n",
    "    \n",
    "    if job_status.status in ['succeeded', 'failed']:\n",
    "        if job_status.status == \"succeeded\":\n",
    "            print(f\"[{datetime.now().strftime('%Y-%m-%d %H:%M:%S')}] Fine-tuning job completed successfully\")     \n",
    "            print(f\"Model: {job_status.fine_tuned_model}\")       \n",
    "        else:\n",
    "            print(f\"[{datetime.now().strftime('%Y-%m-%d %H:%M:%S')}] Fine-tuning job failed\")\n",
    "        break\n",
    "        \n",
    "    time.sleep(60)  # Check status every minute\n",
    "\n"
   ]
  },
  {
   "cell_type": "code",
   "execution_count": 11,
   "metadata": {},
   "outputs": [
    {
     "data": {
      "text/plain": [
       "FineTuningJob(id='ftjob-aSqwH2bGPemsSmMuwxNNy2s0', created_at=1731273445, error=Error(code=None, message=None, param=None), fine_tuned_model='ft:gpt-4o-mini-2024-07-18:tobias-schnabel::ASAA2MGu', finished_at=1731275605, hyperparameters=Hyperparameters(n_epochs=3, batch_size=3, learning_rate_multiplier=1.8), model='gpt-4o-mini-2024-07-18', object='fine_tuning.job', organization_id='org-BIvrpwd05MNwVEsV20uuOQvB', result_files=['file-M3HPwnyUSu43t36DaPMpjqY9'], seed=683719816, status='succeeded', trained_tokens=3009744, training_file='file-dhox0F9EpP5FBS2GDQOGN83C', validation_file=None, estimated_finish=None, integrations=[], user_provided_suffix=None)"
      ]
     },
     "execution_count": 11,
     "metadata": {},
     "output_type": "execute_result"
    }
   ],
   "source": [
    "job_status"
   ]
  }
 ],
 "metadata": {
  "kernelspec": {
   "display_name": "base",
   "language": "python",
   "name": "python3"
  },
  "language_info": {
   "codemirror_mode": {
    "name": "ipython",
    "version": 3
   },
   "file_extension": ".py",
   "mimetype": "text/x-python",
   "name": "python",
   "nbconvert_exporter": "python",
   "pygments_lexer": "ipython3",
   "version": "3.9.12"
  }
 },
 "nbformat": 4,
 "nbformat_minor": 2
}
