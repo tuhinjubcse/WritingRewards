{
 "cells": [
  {
   "cell_type": "code",
   "execution_count": 1,
   "metadata": {},
   "outputs": [],
   "source": [
    "from utils import load_env_vars\n",
    "from openai import OpenAI\n",
    "import time, json, os, tqdm\n",
    "\n",
    "load_env_vars()\n",
    "\n",
    "# Initialize OpenAI client\n",
    "client = OpenAI(api_key=os.environ['OPENAI_API_KEY'])"
   ]
  },
  {
   "cell_type": "code",
   "execution_count": 3,
   "metadata": {},
   "outputs": [],
   "source": [
    "from utils_gpt import prepare_training_data\n",
    "\n",
    "task = \"P\"\n",
    "\n",
    "for split in [\"train\", \"val\"]:\n",
    "    prepare_training_data(f\"data/lamp_{task}_{split}.json\", f\"data/lamp_{task}_{split}_gpt_format.jsonl\")\n"
   ]
  },
  {
   "cell_type": "code",
   "execution_count": 4,
   "metadata": {},
   "outputs": [
    {
     "name": "stdout",
     "output_type": "stream",
     "text": [
      "FileObject(id='file-LrT8QT4xZ6PN6o24QGHgeN', bytes=4869084, created_at=1732740114, filename='lamp_P_train_gpt_format.jsonl', object='file', purpose='fine-tune', status='processed', status_details=None)\n",
      "FileObject(id='file-JxPKqZ4XoL18mX3FJAchdZ', bytes=291652, created_at=1732740114, filename='lamp_P_val_gpt_format.jsonl', object='file', purpose='fine-tune', status='processed', status_details=None)\n"
     ]
    }
   ],
   "source": [
    "training_fn = f\"data/lamp_{task}_train_gpt_format.jsonl\"\n",
    "val_fn = f\"data/lamp_{task}_val_gpt_format.jsonl\"\n",
    "\n",
    "training_file = client.files.create(file=open(training_fn, 'rb'), purpose='fine-tune')\n",
    "val_file = client.files.create(file=open(val_fn, 'rb'), purpose='fine-tune')\n",
    "print(training_file)\n",
    "print(val_file)"
   ]
  },
  {
   "cell_type": "code",
   "execution_count": 6,
   "metadata": {},
   "outputs": [],
   "source": [
    "# base_model, suffix = \"gpt-4o-mini-2024-07-18\", f\"lamp-4o-mini-{task}\"\n",
    "base_model, suffix = \"gpt-4o-2024-08-06\", f\"lamp-4o-{task}\"\n",
    "\n",
    "hyperparameters = {\"n_epochs\": 3}\n",
    "\n",
    "job = client.fine_tuning.jobs.create(training_file=training_file.id, model=base_model, suffix=suffix, validation_file=val_file.id, hyperparameters=hyperparameters)"
   ]
  },
  {
   "cell_type": "code",
   "execution_count": 9,
   "metadata": {},
   "outputs": [
    {
     "name": "stdout",
     "output_type": "stream",
     "text": [
      "[2024-11-27 15:47:53] Status: running, Estimated completion: N/A\n",
      "[2024-11-27 15:48:53] Status: running, Estimated completion: N/A\n",
      "[2024-11-27 15:49:53] Status: running, Estimated completion: 2024-11-27 16:52:01\n",
      "[2024-11-27 15:50:54] Status: running, Estimated completion: 2024-11-27 16:51:44\n",
      "[2024-11-27 15:51:54] Status: running, Estimated completion: 2024-11-27 16:52:45\n",
      "[2024-11-27 15:52:54] Status: running, Estimated completion: 2024-11-27 16:55:36\n",
      "[2024-11-27 15:53:55] Status: running, Estimated completion: 2024-11-27 16:55:38\n",
      "[2024-11-27 15:54:55] Status: running, Estimated completion: 2024-11-27 16:55:06\n",
      "[2024-11-27 15:55:55] Status: running, Estimated completion: 2024-11-27 16:54:57\n",
      "[2024-11-27 15:56:56] Status: running, Estimated completion: 2024-11-27 16:55:42\n",
      "[2024-11-27 15:57:56] Status: running, Estimated completion: 2024-11-27 16:55:49\n",
      "[2024-11-27 15:58:56] Status: running, Estimated completion: 2024-11-27 16:55:14\n",
      "[2024-11-27 15:59:56] Status: running, Estimated completion: 2024-11-27 16:54:55\n",
      "[2024-11-27 16:00:57] Status: running, Estimated completion: 2024-11-27 16:55:54\n",
      "[2024-11-27 16:01:57] Status: running, Estimated completion: 2024-11-27 16:56:03\n",
      "[2024-11-27 16:02:57] Status: running, Estimated completion: 2024-11-27 16:55:43\n",
      "[2024-11-27 16:03:58] Status: running, Estimated completion: 2024-11-27 16:55:24\n",
      "[2024-11-27 16:04:58] Status: running, Estimated completion: 2024-11-27 16:56:38\n",
      "[2024-11-27 16:05:58] Status: running, Estimated completion: 2024-11-27 16:56:54\n",
      "[2024-11-27 16:06:58] Status: running, Estimated completion: 2024-11-27 16:56:33\n",
      "[2024-11-27 16:07:59] Status: running, Estimated completion: 2024-11-27 16:56:36\n",
      "[2024-11-27 16:08:59] Status: running, Estimated completion: 2024-11-27 16:56:41\n",
      "[2024-11-27 16:09:59] Status: running, Estimated completion: 2024-11-27 16:56:50\n",
      "[2024-11-27 16:10:59] Status: running, Estimated completion: 2024-11-27 16:56:26\n",
      "[2024-11-27 16:12:00] Status: running, Estimated completion: 2024-11-27 16:57:00\n",
      "[2024-11-27 16:13:00] Status: running, Estimated completion: 2024-11-27 16:57:32\n",
      "[2024-11-27 16:14:00] Status: running, Estimated completion: 2024-11-27 16:58:01\n",
      "[2024-11-27 16:15:01] Status: running, Estimated completion: 2024-11-27 16:57:41\n",
      "[2024-11-27 16:16:01] Status: running, Estimated completion: 2024-11-27 16:57:46\n",
      "[2024-11-27 16:17:01] Status: running, Estimated completion: 2024-11-27 16:57:25\n",
      "[2024-11-27 16:18:02] Status: running, Estimated completion: 2024-11-27 16:57:50\n",
      "[2024-11-27 16:19:02] Status: running, Estimated completion: 2024-11-27 16:57:33\n",
      "[2024-11-27 16:20:02] Status: running, Estimated completion: 2024-11-27 16:57:56\n",
      "[2024-11-27 16:21:02] Status: running, Estimated completion: 2024-11-27 16:57:38\n",
      "[2024-11-27 16:22:03] Status: running, Estimated completion: 2024-11-27 16:58:02\n",
      "[2024-11-27 16:23:03] Status: running, Estimated completion: 2024-11-27 16:58:08\n",
      "[2024-11-27 16:24:04] Status: running, Estimated completion: 2024-11-27 16:57:48\n",
      "[2024-11-27 16:25:04] Status: running, Estimated completion: 2024-11-27 16:57:32\n",
      "[2024-11-27 16:26:04] Status: running, Estimated completion: 2024-11-27 16:57:52\n",
      "[2024-11-27 16:27:05] Status: running, Estimated completion: 2024-11-27 16:58:01\n",
      "[2024-11-27 16:28:05] Status: running, Estimated completion: 2024-11-27 16:57:45\n",
      "[2024-11-27 16:29:05] Status: running, Estimated completion: 2024-11-27 16:57:27\n",
      "[2024-11-27 16:30:05] Status: running, Estimated completion: 2024-11-27 16:57:46\n",
      "[2024-11-27 16:31:06] Status: running, Estimated completion: 2024-11-27 16:57:29\n",
      "[2024-11-27 16:32:06] Status: running, Estimated completion: 2024-11-27 16:57:40\n",
      "[2024-11-27 16:33:06] Status: running, Estimated completion: 2024-11-27 16:57:24\n",
      "[2024-11-27 16:34:06] Status: running, Estimated completion: 2024-11-27 16:57:41\n",
      "[2024-11-27 16:35:07] Status: running, Estimated completion: 2024-11-27 16:58:24\n",
      "[2024-11-27 16:36:07] Status: running, Estimated completion: 2024-11-27 16:58:46\n",
      "[2024-11-27 16:37:07] Status: running, Estimated completion: 2024-11-27 16:58:31\n",
      "[2024-11-27 16:38:08] Status: running, Estimated completion: 2024-11-27 16:58:40\n",
      "[2024-11-27 16:39:08] Status: running, Estimated completion: 2024-11-27 16:58:31\n",
      "[2024-11-27 16:40:08] Status: running, Estimated completion: 2024-11-27 16:58:41\n",
      "[2024-11-27 16:41:08] Status: running, Estimated completion: 2024-11-27 16:58:24\n",
      "[2024-11-27 16:42:09] Status: running, Estimated completion: 2024-11-27 16:58:35\n",
      "[2024-11-27 16:43:09] Status: running, Estimated completion: 2024-11-27 16:58:24\n",
      "[2024-11-27 16:44:09] Status: running, Estimated completion: 2024-11-27 16:58:34\n",
      "[2024-11-27 16:45:10] Status: running, Estimated completion: 2024-11-27 16:58:19\n",
      "[2024-11-27 16:46:10] Status: running, Estimated completion: 2024-11-27 16:58:30\n",
      "[2024-11-27 16:47:10] Status: running, Estimated completion: 2024-11-27 16:58:19\n",
      "[2024-11-27 16:48:10] Status: running, Estimated completion: 2024-11-27 16:58:29\n",
      "[2024-11-27 16:49:11] Status: running, Estimated completion: 2024-11-27 16:58:15\n",
      "[2024-11-27 16:50:11] Status: running, Estimated completion: 2024-11-27 16:58:27\n",
      "[2024-11-27 16:51:11] Status: running, Estimated completion: 2024-11-27 16:58:39\n",
      "[2024-11-27 16:52:11] Status: running, Estimated completion: 2024-11-27 16:58:25\n",
      "[2024-11-27 16:53:12] Status: running, Estimated completion: 2024-11-27 16:58:36\n",
      "[2024-11-27 16:54:12] Status: running, Estimated completion: 2024-11-27 16:58:22\n",
      "[2024-11-27 16:55:12] Status: running, Estimated completion: 2024-11-27 16:58:34\n",
      "[2024-11-27 16:56:12] Status: running, Estimated completion: 2024-11-27 16:58:20\n",
      "[2024-11-27 16:57:13] Status: running, Estimated completion: 2024-11-27 16:58:32\n",
      "[2024-11-27 16:58:13] Status: running, Estimated completion: 2024-11-27 16:58:18\n",
      "[2024-11-27 16:59:13] Status: running, Estimated completion: N/A\n",
      "[2024-11-27 17:00:13] Status: succeeded\n",
      "[2024-11-27 17:00:13] Fine-tuning job completed successfully\n",
      "Model: ft:gpt-4o-2024-08-06:salesforce-research:lamp-4o-p:AYKM53Ac\n"
     ]
    }
   ],
   "source": [
    "from datetime import datetime\n",
    "\n",
    "while True:\n",
    "    job_status = client.fine_tuning.jobs.retrieve(job.id)\n",
    "    if job_status.status == \"running\":\n",
    "        if not job_status.estimated_finish:\n",
    "            print(f\"[{datetime.now().strftime('%Y-%m-%d %H:%M:%S')}] Status: {job_status.status}, Estimated completion: N/A\")\n",
    "        else:\n",
    "            estimated_completion = datetime.fromtimestamp(job_status.estimated_finish)\n",
    "            print(f\"[{datetime.now().strftime('%Y-%m-%d %H:%M:%S')}] Status: {job_status.status}, Estimated completion: {estimated_completion}\")\n",
    "    else:\n",
    "        print(f\"[{datetime.now().strftime('%Y-%m-%d %H:%M:%S')}] Status: {job_status.status}\")\n",
    "    \n",
    "    if job_status.status in ['succeeded', 'failed']:\n",
    "        if job_status.status == \"succeeded\":\n",
    "            print(f\"[{datetime.now().strftime('%Y-%m-%d %H:%M:%S')}] Fine-tuning job completed successfully\")     \n",
    "            print(f\"Model: {job_status.fine_tuned_model}\")       \n",
    "        else:\n",
    "            print(f\"[{datetime.now().strftime('%Y-%m-%d %H:%M:%S')}] Fine-tuning job failed\")\n",
    "        break\n",
    "        \n",
    "    time.sleep(60)  # Check status every minute\n",
    "\n"
   ]
  },
  {
   "cell_type": "code",
   "execution_count": 10,
   "metadata": {},
   "outputs": [
    {
     "data": {
      "text/plain": [
       "FineTuningJob(id='ftjob-ENZTqiCLaEm4ShW3nDcC24oS', created_at=1732740238, error=Error(code=None, message=None, param=None), fine_tuned_model='ft:gpt-4o-2024-08-06:salesforce-research:lamp-4o-p:AYKM53Ac', finished_at=1732744759, hyperparameters=Hyperparameters(n_epochs=3, batch_size=3, learning_rate_multiplier=2), model='gpt-4o-2024-08-06', object='fine_tuning.job', organization_id='org-Y7zi4Bj4dOxFLW4CpEFnAffn', result_files=['file-BKHNdAZ7b4nr1oLAzfeNbC'], seed=404531127, status='succeeded', trained_tokens=2999766, training_file='file-LrT8QT4xZ6PN6o24QGHgeN', validation_file='file-JxPKqZ4XoL18mX3FJAchdZ', estimated_finish=None, integrations=[], user_provided_suffix='lamp-4o-P')"
      ]
     },
     "execution_count": 10,
     "metadata": {},
     "output_type": "execute_result"
    }
   ],
   "source": [
    "job_status"
   ]
  }
 ],
 "metadata": {
  "kernelspec": {
   "display_name": "base",
   "language": "python",
   "name": "python3"
  },
  "language_info": {
   "codemirror_mode": {
    "name": "ipython",
    "version": 3
   },
   "file_extension": ".py",
   "mimetype": "text/x-python",
   "name": "python",
   "nbconvert_exporter": "python",
   "pygments_lexer": "ipython3",
   "version": "3.9.12"
  }
 },
 "nbformat": 4,
 "nbformat_minor": 2
}
