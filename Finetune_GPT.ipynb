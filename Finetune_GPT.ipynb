{
 "cells": [
  {
   "cell_type": "code",
   "execution_count": 1,
   "metadata": {},
   "outputs": [],
   "source": [
    "from utils import load_env_vars\n",
    "from openai import OpenAI\n",
    "import time, json, os, tqdm\n",
    "\n",
    "load_env_vars()\n",
    "from utils_gpt import track_job, prepare_training_data\n",
    "\n",
    "# Initialize OpenAI client\n",
    "client = OpenAI(api_key=os.environ['OPENAI_API_KEY'])"
   ]
  },
  {
   "cell_type": "code",
   "execution_count": 2,
   "metadata": {},
   "outputs": [
    {
     "name": "stdout",
     "output_type": "stream",
     "text": [
      "ft:gpt-4o-2024-08-06:salesforce-research:lamp-4o-p:AYKM4Mn4:ckpt-step-564\n",
      "ft:gpt-4o-2024-08-06:salesforce-research:lamp-4o-p:AYKM5RNQ:ckpt-step-1128\n",
      "ft:gpt-4o-2024-08-06:salesforce-research:lamp-4o-p:AYKM53Ac\n",
      "ft:gpt-4o-mini-2024-07-18:salesforce-research:lamp-4o-mini-p-editor:AZpOfqCe:ckpt-step-1138\n",
      "ft:gpt-4o-mini-2024-07-18:salesforce-research:lamp-4o-mini-p-editor:AZpOfQnM:ckpt-step-569\n",
      "ft:gpt-4o-mini-2024-07-18:salesforce-research:lamp-4o-mini-p-editor:AZpOgz62\n",
      "ft:gpt-4o-mini-2024-07-18:salesforce-research:lamp-4o-mini-s1000:AgGQZk3C:ckpt-step-500\n",
      "ft:gpt-4o-2024-08-06:salesforce-research:lamp-4o-s1000:AgH71dow:ckpt-step-500\n",
      "ft:gpt-4o-2024-08-06:salesforce-research:lamp-4o-s1000:AgH72s2W:ckpt-step-1000\n",
      "ft:gpt-4o-2024-08-06:salesforce-research:lamp-4o-s1000:AgH72ocy\n",
      "ft:gpt-4o-mini-2024-07-18:salesforce-research:lamp-4o-mini-s2000:AgcT9xmq:ckpt-step-500\n",
      "ft:gpt-4o-mini-2024-07-18:salesforce-research:lamp-4o-mini-s2000:AgcTAsuK:ckpt-step-1000\n",
      "ft:gpt-4o-mini-2024-07-18:salesforce-research:lamp-4o-mini-s2000:AgcTA5yX\n",
      "ft:gpt-4o-mini-2024-07-18:salesforce-research:lamp-4o-mini-s4000:Agd2Z6Us:ckpt-step-500\n",
      "ft:gpt-4o-mini-2024-07-18:salesforce-research:lamp-4o-mini-s4000:Agd2ZzvS:ckpt-step-1000\n",
      "ft:gpt-4o-mini-2024-07-18:salesforce-research:lamp-4o-mini-s4000:Agd2ZtCR\n",
      "ft:gpt-4o-mini-2024-07-18:salesforce-research:lamp-4o-mini-s8000:Agdla2mJ\n",
      "ft:gpt-4o-mini-2024-07-18:salesforce-research:lamp-4o-mini-s8000:AgdlZHEX:ckpt-step-500\n",
      "ft:gpt-4o-mini-2024-07-18:salesforce-research:lamp-4o-mini-s8000:AgdlaiVi:ckpt-step-1000\n",
      "ft:gpt-4o-mini-2024-07-18:salesforce-research:lamp-4o-mini-s1000:AgGQa8dG\n",
      "ft:gpt-4o-mini-2024-07-18:salesforce-research:lamp-4o-mini-s1000:AgGQafmI:ckpt-step-1000\n",
      "ft:gpt-4o-2024-08-06:salesforce-research:lamp-4o-s1000:AnBiuKOa\n",
      "ft:gpt-4o-2024-08-06:salesforce-research:lamp-4o-s1000:AnBitABh:ckpt-step-500\n",
      "ft:gpt-4o-2024-08-06:salesforce-research:lamp-4o-s1000:AnBiuVWz:ckpt-step-1000\n",
      "ft:gpt-4o-2024-08-06:salesforce-research:lamp-4o-s4000:AnEcRL0q:ckpt-step-1000\n",
      "ft:gpt-4o-2024-08-06:salesforce-research:lamp-4o-s8000:AnGjziwq:ckpt-step-522\n",
      "ft:gpt-4o-2024-08-06:salesforce-research:lamp-4o-s4000:AnEcR3Qw:ckpt-step-500\n",
      "ft:gpt-4o-2024-08-06:salesforce-research:lamp-4o-s8000:AnGjzVZ2:ckpt-step-1044\n",
      "ft:gpt-4o-2024-08-06:salesforce-research:lamp-4o-s4000:AnEcSYEK\n",
      "ft:gpt-4o-2024-08-06:salesforce-research:lamp-4o-s8000:AnGk0JUW\n",
      "ft:gpt-4o-2024-08-06:salesforce-research:lamp-4o-s2000:AnD7oB8N:ckpt-step-500\n",
      "ft:gpt-4o-2024-08-06:salesforce-research:lamp-4o-s2000:AnD7peGf:ckpt-step-1000\n",
      "ft:gpt-4o-2024-08-06:salesforce-research:lamp-4o-s2000:AnD7pa0n\n",
      "ft:gpt-4o-2024-08-06:salesforce-research:lamp-4o-detection:Aqna3sJ6\n",
      "ft:gpt-4o-2024-08-06:salesforce-research:lamp-4o-detection:Aqna3cZp:ckpt-step-500\n",
      "ft:gpt-4o-2024-08-06:salesforce-research:lamp-4o-detection:Aqna3WOc:ckpt-step-1000\n",
      "ft:gpt-4o-2024-08-06:salesforce-research:lamp-sft:ApobUef9:ckpt-step-500\n",
      "ft:gpt-4o-2024-08-06:salesforce-research:lamp-sft:ApobVdal:ckpt-step-1000\n",
      "ft:gpt-4o-2024-08-06:salesforce-research:lamp-sft:ApobVLU1\n",
      "ft:gpt-4o-2024-08-06:salesforce-research:lamp-4o-rewriting:AqpAqH5r:ckpt-step-1034\n",
      "ft:gpt-4o-2024-08-06:salesforce-research:lamp-4o-cot:Aqlv1gPi:ckpt-step-500\n",
      "ft:gpt-4o-2024-08-06:salesforce-research:lamp-4o-cot:Aqlv1cio:ckpt-step-1000\n",
      "ft:gpt-4o-2024-08-06:salesforce-research:lamp-4o-cot:Aqlv1wPq\n",
      "ft:gpt-4o-2024-08-06:salesforce-research:lamp-4o-rewriting:AqpAp2z4:ckpt-step-517\n",
      "ft:gpt-4o-2024-08-06:salesforce-research:lamp-4o-rewriting:AqpAqwih\n",
      "ft:gpt-4o-2024-08-06:salesforce-research:lamp-4o-r-eval:AtJMvfkD:ckpt-step-500\n",
      "ft:gpt-4o-2024-08-06:salesforce-research:lamp-4o-r-eval:AtJMxzJl:ckpt-step-1000\n",
      "ft:gpt-4o-2024-08-06:salesforce-research:lamp-4o-r-eval:AtJMxSx2\n",
      "ft:gpt-4o-2024-08-06:salesforce-research:lamp-4o-r-eval:Atd2Qtmy:ckpt-step-500\n",
      "ft:gpt-4o-2024-08-06:salesforce-research:lamp-4o-r-eval:Atd2Ro3R:ckpt-step-1000\n",
      "ft:gpt-4o-2024-08-06:salesforce-research:lamp-4o-r-eval:Atd2RLe2\n",
      "ft:gpt-4o-2024-08-06:salesforce-research:lamp-4o-pr-eval:Atdmon5C:ckpt-step-528\n",
      "ft:gpt-4o-2024-08-06:salesforce-research:lamp-4o-pr-eval:AtdmpZgH:ckpt-step-1056\n",
      "ft:gpt-4o-2024-08-06:salesforce-research:lamp-4o-pr-eval:AtdmpEpc\n"
     ]
    }
   ],
   "source": [
    "models = client.models.list()\n",
    "for model in models:\n",
    "    if \"lamp\" in model.id:\n",
    "        print(model.id)"
   ]
  },
  {
   "cell_type": "code",
   "execution_count": null,
   "metadata": {},
   "outputs": [
    {
     "name": "stdout",
     "output_type": "stream",
     "text": [
      "FileObject(id='file-UALKmnJauGGQr6FmiAVpjd', bytes=3177061, created_at=1739243138, filename='tmp_gpt_tune_format_train.jsonl', object='file', purpose='fine-tune', status='processed', status_details=None) FileObject(id='file-NWv1EAnh5NC7fChzDkBdxm', bytes=211663, created_at=1739243138, filename='tmp_gpt_tune_format_val.jsonl', object='file', purpose='fine-tune', status='processed', status_details=None)\n",
      "[2025-02-10 22:05:41] Status: validating_files\n"
     ]
    }
   ],
   "source": [
    "# base_model, base_suffix = \"gpt-4o-mini-2024-07-18\", f\"lamp-4o-mini\"\n",
    "base_model, base_suffix = \"gpt-4o-2024-08-06\", f\"lamp-4o\"\n",
    "\n",
    "hyperparameters = {\"n_epochs\": 3}\n",
    "\n",
    "tasks = [\n",
    "    # {\"suffix\": \"cot\", \"train_fn\": \"data/lamp_train_cot_format.json\", \"val_fn\": \"data/lamp_val_cot_format.json\"},\n",
    "    # {\"suffix\": \"detection\", \"train_fn\": \"data/lamp_train_detection_format.json\", \"val_fn\": \"data/lamp_val_detection_format.json\"},\n",
    "    # {\"suffix\": \"rewriting\", \"train_fn\": \"data/lamp_train_rewriting_format.json\", \"val_fn\": \"data/lamp_val_rewriting_format.json\"},\n",
    "    # {\"suffix\": \"r_eval\", \"train_fn\": \"data/lamp_R_train.json\", \"val_fn\": \"data/lamp_R_val.json\"},\n",
    "    # {\"suffix\": \"pr_eval\", \"train_fn\": \"data/lamp_PR_train.json\", \"val_fn\": \"data/lamp_PR_val.json\"},\n",
    "    {\"suffix\": \"rsg2-eval\", \"train_fn\": \"data/lamp_Rsg2_train.json\", \"val_fn\": \"data/lamp_Rsg2_val.json\"},\n",
    "    {\"suffix\": \"r-eval-b\", \"train_fn\": \"data/lamp_R_train.json\", \"val_fn\": \"data/lamp_R_val.json\"},\n",
    "    {\"suffix\": \"p-eval-b\", \"train_fn\": \"data/lamp_P_train.json\", \"val_fn\": \"data/lamp_P_val.json\"},\n",
    "\n",
    "]\n",
    "# [\"S1000\", \"S2000\", \"S4000\", \"S8000\"]\n",
    "\n",
    "for task in tasks:\n",
    "    suffix = f\"{base_suffix}-{task['suffix']}\"\n",
    "\n",
    "    training_fn_gpt = f\"data/tmp_gpt_tune_format_train.jsonl\"\n",
    "    prepare_training_data(task[\"train_fn\"], training_fn_gpt)\n",
    "    val_fn_gpt = f\"data/tmp_gpt_tune_format_val.jsonl\"\n",
    "    prepare_training_data(task[\"val_fn\"], val_fn_gpt)\n",
    "\n",
    "    training_file = client.files.create(file=open(training_fn_gpt, 'rb'), purpose='fine-tune')\n",
    "    val_file = client.files.create(file=open(val_fn_gpt, 'rb'), purpose='fine-tune')\n",
    "    print(training_file, val_file)\n",
    "\n",
    "    job = client.fine_tuning.jobs.create(training_file=training_file.id, model=base_model, suffix=suffix, validation_file=val_file.id, hyperparameters=hyperparameters)\n",
    "    track_job(job.id)"
   ]
  }
 ],
 "metadata": {
  "kernelspec": {
   "display_name": "base",
   "language": "python",
   "name": "python3"
  },
  "language_info": {
   "codemirror_mode": {
    "name": "ipython",
    "version": 3
   },
   "file_extension": ".py",
   "mimetype": "text/x-python",
   "name": "python",
   "nbconvert_exporter": "python",
   "pygments_lexer": "ipython3",
   "version": "3.9.12"
  }
 },
 "nbformat": 4,
 "nbformat_minor": 2
}
