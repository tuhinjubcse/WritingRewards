{
 "cells": [
  {
   "cell_type": "markdown",
   "metadata": {},
   "source": [
    "# Create COT, Detection, and Rewriting Tuning Datasets"
   ]
  },
  {
   "cell_type": "code",
   "execution_count": 11,
   "metadata": {},
   "outputs": [
    {
     "name": "stdout",
     "output_type": "stream",
     "text": [
      "Created the three datasets.\n",
      "COT has 1000 samples.\n",
      "Detection has 1000 samples.\n",
      "Rewriting has 7234 samples.\n"
     ]
    }
   ],
   "source": [
    "import json\n",
    "\n",
    "with open(\"prompts/lamp_cot_input.txt\", \"r\") as f:\n",
    "    lamp_cot_input_prompt = f.read()\n",
    "\n",
    "with open(\"prompts/lamp_cot_output.txt\", \"r\") as f:\n",
    "    lamp_cot_output_prompt = f.read()\n",
    "\n",
    "with open(\"prompts/lamp_detection_input.txt\", \"r\") as f:\n",
    "    lamp_detection_input_prompt = f.read()\n",
    "\n",
    "with open(\"prompts/lamp_rewriting_input.txt\", \"r\") as f:\n",
    "    lamp_rewriting_input_prompt = f.read()\n",
    "\n",
    "def prepare_cot_sample(sample):\n",
    "    input_text = lamp_cot_input_prompt.replace(\"[[INPUT_PARAGRAPH]]\", sample[\"preedit\"])\n",
    "\n",
    "    problematic_spans_STR = \"\"\"\"\"\"\n",
    "    for i, edit in enumerate(sample[\"fine_grained_edits\"]):\n",
    "        problematic_spans_STR += f\"Span {i+1}: `{edit['originalText']}` (Category: `{edit['categorization']}`)\\n\"\n",
    "\n",
    "    proposed_rewriting_STR = \"\"\"\"\"\"\n",
    "    for i, edit in enumerate(sample[\"fine_grained_edits\"]):\n",
    "        proposed_rewriting_STR += f\"Span {i+1}: `{edit['originalText']}` -> `{edit['editedText']}`\\n\"\n",
    "\n",
    "    output_text = lamp_cot_output_prompt.replace(\"[[PROBLEMATIC_SPANS]]\", problematic_spans_STR).replace(\"[[PROPOSED_REWRITING]]\", proposed_rewriting_STR).replace(\"[[FINAL_PARAGRAPH]]\", sample[\"postedit\"])\n",
    "    return {\"id\": sample[\"id\"], \"input_text\": input_text, \"output_text\": output_text}\n",
    "\n",
    "def prepare_detection_sample(sample):\n",
    "    input_text = lamp_detection_input_prompt.replace(\"[[INPUT_PARAGRAPH]]\", sample[\"preedit\"])\n",
    "    output_text = json.dumps({\"edits\": [{\"span\": edit[\"originalText\"], \"category\": edit[\"categorization\"]} for edit in sample[\"fine_grained_edits\"]]})\n",
    "    return {\"id\": sample[\"id\"], \"input_text\": input_text, \"output_text\": output_text}\n",
    "\n",
    "def prepare_rewriting_samples(sample):\n",
    "    samples = []\n",
    "    for edit_idx, edit in enumerate(sample[\"fine_grained_edits\"]):\n",
    "        input_text = lamp_rewriting_input_prompt.replace(\"[[INPUT_PARAGRAPH]]\", sample[\"preedit\"]).replace(\"[[PROBLEMATIC_SPAN]]\", edit[\"originalText\"]).replace(\"[[PROBLEMATIC_CATEGORY]]\", edit[\"categorization\"])\n",
    "        output_text = json.dumps({\"rewrite\": edit[\"editedText\"]})\n",
    "        samples.append({\"id\": f\"{sample['id']}_edit_{edit_idx}\", \"input_text\": input_text, \"output_text\": output_text})\n",
    "    return samples\n",
    "\n",
    "with open(\"data/LAMP-train-val-test.json\", \"r\") as f:\n",
    "    lamp_data = json.load(f)\n",
    "\n",
    "lamp_train = [d for d in lamp_data if d[\"data-split\"] == \"train\"]\n",
    "\n",
    "with open(\"data/lamp_train_cot_format.json\", \"w\") as f:\n",
    "    json.dump([prepare_cot_sample(sample) for sample in lamp_train], f, indent=4)\n",
    "\n",
    "with open(\"data/lamp_train_detection_format.json\", \"w\") as f:\n",
    "    json.dump([prepare_detection_sample(sample) for sample in lamp_train], f, indent=4)\n",
    "\n",
    "lamp_rewriting_samples = []\n",
    "for sample in lamp_train:\n",
    "    lamp_rewriting_samples += prepare_rewriting_samples(sample)\n",
    "\n",
    "with open(\"data/lamp_train_rewriting_format.json\", \"w\") as f:\n",
    "    json.dump(lamp_rewriting_samples, f, indent=4)\n",
    "\n",
    "print(\"Created the three datasets.\")\n",
    "print(f\"COT has {len(lamp_train)} samples.\")\n",
    "print(f\"Detection has {len(lamp_train)} samples.\")\n",
    "print(f\"Rewriting has {len(lamp_rewriting_samples)} samples.\")"
   ]
  },
  {
   "cell_type": "code",
   "execution_count": 12,
   "metadata": {},
   "outputs": [
    {
     "name": "stdout",
     "output_type": "stream",
     "text": [
      "Part 1: Idenfying Problematic Spans\n",
      "\n",
      "Span 1: `The room was dimly lit, with the soft hum of machinery filling the silence` (Category: `Awkward Word Choice and Phrasing`)\n",
      "Span 2: `I sat beside Lila, squeezing her hand, as the technician swirled the wand over her belly` (Category: `Lack of Specificity and Detail`)\n",
      "Span 3: `The screen flickered to life, a grainy black and white, like an ancient TV trying to find it's signal` (Category: `Unnecessary Exposition`)\n",
      "Span 4: `Lila's grip tightened, and I glanced at her, finding her eyes glossy, a smile tugging at the corners of her mouth` (Category: `Poor Sentence Structure`)\n",
      "Span 5: `—a future that felt both incredibly close and impossibly distant` (Category: `Unnecessary Exposition`)\n",
      "\n",
      "\n",
      "Part 2: Proposing Rewriting for Problematic Spans\n",
      "\n",
      "Span 1: `The room was dimly lit, with the soft hum of machinery filling the silence` -> `The soft hum of machinery filled the room with an unfamiliar yet gentle melody.`\n",
      "Span 2: `I sat beside Lila, squeezing her hand, as the technician swirled the wand over her belly` -> `I sat beside Lila, squeezing her hand as she lay on the table while the technician swirled the wand over her rounded belly.`\n",
      "Span 3: `The screen flickered to life, a grainy black and white, like an ancient TV trying to find it's signal` -> `The screen beside us flickered to life, a grainy black and white.`\n",
      "Span 4: `Lila's grip tightened, and I glanced at her, finding her eyes glossy, a smile tugging at the corners of her mouth` -> `Lila's grip tightened and upon glancing at her, I found her eyes glossy, along with a smile tugging at the corners of her mouth.`\n",
      "Span 5: `—a future that felt both incredibly close and impossibly distant` -> ``\n",
      "\n",
      "\n",
      "Part 3: Implementing Proposed Edits\n",
      "\n",
      "The soft hum of machinery filled the room with an unfamiliar yet gentle melody. I sat beside Lila, squeezing her hand as she lay on the table while the technician swirled the wand over her rounded belly. The screen beside us flickered to life, a grainy black and white. Slowly, an image began to form; the unmistakable curve of a tiny head, the flutter of something I later learned was a heartbeat. I leaned forward, almost holding my breath, mesmerized by the play of light and shadows that composed this new life. Lila's grip tightened and upon glancing at her, I found her eyes glossy, along with a smile tugging at the corners of her mouth. I turned back to the screen, emotions swirling—awe, fear, hope. In that moment, the abstract idea of \"our baby\" transformed into something real, tangible. The room's dimness seemed to fold around us, making space for this silent, wordless connection. There, in the ghostly shapes on the monitor, I saw not just a child, but a future.\n"
     ]
    }
   ],
   "source": [
    "# load cot dataset\n",
    "with open(\"data/lamp_train_cot_format.json\", \"r\") as f:\n",
    "    lamp_train_cot = json.load(f)\n",
    "\n",
    "print(lamp_train_cot[0][\"output_text\"])\n"
   ]
  },
  {
   "cell_type": "markdown",
   "metadata": {},
   "source": [
    "# Prepare Evaluation Benchmark"
   ]
  },
  {
   "cell_type": "code",
   "execution_count": 15,
   "metadata": {},
   "outputs": [],
   "source": [
    "import json\n",
    "\n",
    "# lamp_fn = \"data/LAMP-train-val-test.json\"\n",
    "\n",
    "# with open(lamp_fn, \"r\") as f:\n",
    "#     lamp_data = json.load(f)\n",
    "# lamp_test = [d for d in lamp_data if d[\"data-split\"] == \"test\"]\n",
    "# instruction2lamp_sample = {sample['instruction']: sample for sample in lamp_test}\n",
    "\n",
    "gold_prefs = \"data/gold_preference_600.json\"\n",
    "with open(gold_prefs, \"r\") as f:\n",
    "    gold_prefs = json.load(f)\n",
    "\n",
    "eval_samples = []\n",
    "for sample_id, gold_pref in enumerate(gold_prefs):\n",
    "    sample_id = f\"gold_{sample_id}\"\n",
    "    candidates = [\n",
    "        {\"id\": f\"{sample_id}_ai_draft\", \"system\": \"ai_draft\", \"text\": gold_pref[\"AI-generated\"]},\n",
    "        {\"id\": f\"{sample_id}_human_edited\", \"system\": \"human_edited\", \"text\": gold_pref[\"Human-edited\"]},\n",
    "        {\"id\": f\"{sample_id}_fs_edited\", \"system\": \"fs_edited\", \"text\": gold_pref[\"AI-edited\"]},\n",
    "    ]\n",
    "    sample = {\"id\": sample_id, \"instruction\": gold_pref[\"instruction\"], \"candidates\": candidates}\n",
    "    eval_samples.append(sample)\n",
    "\n",
    "\n",
    "with open(\"data/lamp_editing_benchmark.json\", \"w\") as f:\n",
    "    json.dump(eval_samples, f, indent=4)\n"
   ]
  },
  {
   "cell_type": "markdown",
   "metadata": {},
   "source": [
    "# Generate Additional Candidates"
   ]
  },
  {
   "cell_type": "code",
   "execution_count": 1,
   "metadata": {},
   "outputs": [],
   "source": [
    "from utils import load_env_vars\n",
    "from utils_diff import make_colored_text\n",
    "import tqdm\n",
    "\n",
    "load_env_vars()\n",
    "\n",
    "from llms import generate, generate_json"
   ]
  },
  {
   "cell_type": "markdown",
   "metadata": {},
   "source": [
    "## 2.1 COT Model"
   ]
  },
  {
   "cell_type": "code",
   "execution_count": 5,
   "metadata": {},
   "outputs": [
    {
     "name": "stderr",
     "output_type": "stream",
     "text": [
      "/tmp/ipykernel_587188/3899414031.py:12: TqdmDeprecationWarning: This function will be removed in tqdm==5.0.0\n",
      "Please use `tqdm.notebook.tqdm` instead of `tqdm.tqdm_notebook`\n",
      "  for sample in tqdm.tqdm_notebook(todos):\n"
     ]
    },
    {
     "data": {
      "application/vnd.jupyter.widget-view+json": {
       "model_id": "a717c142ef904181a79fb7f1720f2c01",
       "version_major": 2,
       "version_minor": 0
      },
      "text/plain": [
       "  0%|          | 0/132 [00:00<?, ?it/s]"
      ]
     },
     "metadata": {},
     "output_type": "display_data"
    }
   ],
   "source": [
    "cot_model_full_name, cot_model_short_name = \"ft:gpt-4o-2024-08-06:salesforce-research:lamp-4o-cot:Aqlv1wPq\", \"lamp-4o-cot\"\n",
    "\n",
    "with open(\"data/lamp_editing_benchmark.json\", \"r\") as f:\n",
    "    eval_samples = json.load(f)\n",
    "\n",
    "with open(\"prompts/lamp_cot_input.txt\", \"r\") as f:\n",
    "    lamp_cot_input_prompt = f.read()\n",
    "\n",
    "candidate_key = f\"edited_{cot_model_short_name}\"\n",
    "\n",
    "todos = [sample for sample in eval_samples if not any(candidate[\"system\"] == candidate_key for candidate in sample[\"candidates\"])]\n",
    "for sample in tqdm.tqdm_notebook(todos):\n",
    "    system2candidate = {candidate[\"system\"]: candidate for candidate in sample[\"candidates\"]}\n",
    "    ai_draft = system2candidate[\"ai_draft\"][\"text\"]\n",
    "\n",
    "    sample_candidate_key = f\"{sample['id']}_{candidate_key}\"\n",
    "    cot_response = generate([{\"role\": \"user\", \"content\": lamp_cot_input_prompt}], model=cot_model_full_name, variables={\"INPUT_PARAGRAPH\": ai_draft}, max_tokens=2000, step=\"lamp-editing-cot\")\n",
    "    # find the line that starts with \"Part 3\"\n",
    "    part_3_idx = cot_response.find(\"Part 3\")\n",
    "    final_rewrite = cot_response[part_3_idx:]\n",
    "\n",
    "    final_rewrite = \"\\n\".join(final_rewrite.split(\"\\n\")[1:]).strip()\n",
    "    # print(make_colored_text(ai_draft, final_rewrite))\n",
    "    sample[\"candidates\"].append({\"id\": sample_candidate_key, \"system\": candidate_key, \"text\": final_rewrite})\n",
    "\n",
    "    with open(\"data/lamp_editing_benchmark.json\", \"w\") as f:\n",
    "        json.dump(eval_samples, f, indent=4)\n"
   ]
  },
  {
   "cell_type": "markdown",
   "metadata": {},
   "source": [
    "## 2.2 Run (DnR) Detect and Rewriting Pipeline"
   ]
  },
  {
   "cell_type": "code",
   "execution_count": 16,
   "metadata": {},
   "outputs": [
    {
     "name": "stderr",
     "output_type": "stream",
     "text": [
      "/tmp/ipykernel_4069794/2818778059.py:37: TqdmDeprecationWarning: This function will be removed in tqdm==5.0.0\n",
      "Please use `tqdm.notebook.tqdm` instead of `tqdm.tqdm_notebook`\n",
      "  for sample in tqdm.tqdm_notebook(todos):\n"
     ]
    },
    {
     "data": {
      "application/vnd.jupyter.widget-view+json": {
       "model_id": "709b332c878e47f6af6b1a0940961261",
       "version_major": 2,
       "version_minor": 0
      },
      "text/plain": [
       "  0%|          | 0/201 [00:00<?, ?it/s]"
      ]
     },
     "metadata": {},
     "output_type": "display_data"
    }
   ],
   "source": [
    "\n",
    "with open(\"prompts/lamp_detection_input.txt\", \"r\") as f:\n",
    "    lamp_detection_input_prompt = f.read()\n",
    "\n",
    "with open(\"prompts/lamp_rewriting_input.txt\", \"r\") as f:\n",
    "    lamp_rewriting_input_prompt = f.read()\n",
    "\n",
    "def run_dnr_pipeline(base_paragraph, detection_model, rewriting_model):\n",
    "    # 1. Detect\n",
    "    detection_response = generate_json([{\"role\": \"user\", \"content\": lamp_detection_input_prompt}], model=detection_model, variables={\"INPUT_PARAGRAPH\": base_paragraph}, step=\"lamp-editing-dnr-detection\")\n",
    "\n",
    "    edits = detection_response[\"edits\"]\n",
    "    filtered_edits = [edit for edit in edits if edit[\"span\"] in base_paragraph and base_paragraph.count(edit[\"span\"]) == 1]\n",
    "\n",
    "    # 2. Rewrite\n",
    "    for edit in filtered_edits:\n",
    "        output_rewrite = generate_json([{\"role\": \"user\", \"content\": lamp_rewriting_input_prompt}], model=rewriting_model, variables={\"INPUT_PARAGRAPH\": base_paragraph, \"PROBLEMATIC_SPAN\": edit[\"span\"], \"PROBLEMATIC_CATEGORY\": edit[\"category\"]}, step=\"lamp-editing-dnr\")\n",
    "        edit[\"rewrite\"] = output_rewrite[\"rewrite\"]\n",
    "\n",
    "    # 3. Apply the edits\n",
    "    edited_text = base_paragraph\n",
    "    for edit in filtered_edits:\n",
    "        edited_text = edited_text.replace(edit[\"span\"], edit[\"rewrite\"])\n",
    "\n",
    "    return edited_text, filtered_edits\n",
    "\n",
    "detection_model, rewriting_model = \"ft:gpt-4o-2024-08-06:salesforce-research:lamp-4o-detection:Aqna3sJ6\", \"ft:gpt-4o-2024-08-06:salesforce-research:lamp-4o-rewriting:AqpAqwih\"\n",
    "# system_name, base_key = \"lamp-4o-dnr\", \"ai_draft\"\n",
    "system_name, base_key = \"lamp-4o-dnr-dnr\", \"lamp-4o-dnr\"\n",
    "\n",
    "with open(\"data/lamp_editing_benchmark.json\", \"r\") as f:\n",
    "    eval_samples = json.load(f)\n",
    "\n",
    "todos = [sample for sample in eval_samples if not any(candidate[\"system\"] == system_name for candidate in sample[\"candidates\"])]\n",
    "\n",
    "for sample in tqdm.tqdm_notebook(todos):\n",
    "    system2candidate = {candidate[\"system\"]: candidate for candidate in sample[\"candidates\"]}\n",
    "    base_paragraph = system2candidate[base_key][\"text\"]\n",
    "\n",
    "    sample_candidate_key = f\"{sample['id']}_{system_name}\"\n",
    "    edited_text, edits = run_dnr_pipeline(base_paragraph, detection_model, rewriting_model)\n",
    "    sample[\"candidates\"].append({\"id\": sample_candidate_key, \"system\": system_name, \"text\": edited_text, \"edits\": edits})\n",
    "\n",
    "    with open(\"data/lamp_editing_benchmark.json\", \"w\") as f:\n",
    "        json.dump(eval_samples, f, indent=4)\n"
   ]
  },
  {
   "cell_type": "markdown",
   "metadata": {},
   "source": [
    "# 3. Calculate Scores"
   ]
  },
  {
   "cell_type": "markdown",
   "metadata": {},
   "source": [
    "## 3.1 Run Reward-based Scoring"
   ]
  },
  {
   "cell_type": "code",
   "execution_count": 1,
   "metadata": {},
   "outputs": [
    {
     "name": "stderr",
     "output_type": "stream",
     "text": [
      "/tmp/ipykernel_244813/929883359.py:20: TqdmDeprecationWarning: This function will be removed in tqdm==5.0.0\n",
      "Please use `tqdm.notebook.tqdm` instead of `tqdm.tqdm_notebook`\n",
      "  for i, todo in enumerate(tqdm.tqdm_notebook(todos, desc=f\"Calculating {reward_key} scores\")):\n"
     ]
    },
    {
     "data": {
      "application/vnd.jupyter.widget-view+json": {
       "model_id": "e849e53ea4b44202ae1682f787ec5a26",
       "version_major": 2,
       "version_minor": 0
      },
      "text/plain": [
       "Calculating score scores:   0%|          | 0/201 [00:00<?, ?it/s]"
      ]
     },
     "metadata": {},
     "output_type": "display_data"
    },
    {
     "data": {
      "application/vnd.jupyter.widget-view+json": {
       "model_id": "fd4d15f1e2e04226a65649e19040ae30",
       "version_major": 2,
       "version_minor": 0
      },
      "text/plain": [
       "Calculating r-score scores:   0%|          | 0/201 [00:00<?, ?it/s]"
      ]
     },
     "metadata": {},
     "output_type": "display_data"
    },
    {
     "data": {
      "application/vnd.jupyter.widget-view+json": {
       "model_id": "cf1b5fd6260e4a53b828c72632a43bcd",
       "version_major": 2,
       "version_minor": 0
      },
      "text/plain": [
       "Calculating r3-score scores:   0%|          | 0/201 [00:00<?, ?it/s]"
      ]
     },
     "metadata": {},
     "output_type": "display_data"
    }
   ],
   "source": [
    "from utils import load_env_vars\n",
    "load_env_vars()\n",
    "from llms import generate_json\n",
    "import tqdm, json\n",
    "\n",
    "with open(\"prompts/reward_calc.txt\", \"r\") as f:\n",
    "    reward_calc_prompt = f.read()\n",
    "\n",
    "def calculate_reward(candidate, reward_model, reward_key):\n",
    "    output_response = generate_json([{\"role\": \"user\", \"content\": reward_calc_prompt}], model=reward_model, variables={\"PARAGRAPH\": candidate[\"text\"]}, step=\"lamp-editing-r-eval\")\n",
    "    candidate[reward_key] = output_response[\"score\"]\n",
    "\n",
    "with open(\"data/lamp_editing_benchmark.json\", \"r\") as f:\n",
    "    eval_samples = json.load(f)\n",
    "\n",
    "for reward_model, reward_key in [(\"ft:gpt-4o-2024-08-06:salesforce-research:lamp-4o-p:AYKM53Ac\", \"score\"), (\"ft:gpt-4o-2024-08-06:salesforce-research:lamp-4o-r-eval:AtJMxSx2\", \"r-score\"), (\"ft:gpt-4o-2024-08-06:salesforce-research:lamp-4o-pr-eval:AtdmpEpc\", \"r3-score\")]:\n",
    "\n",
    "    todos = [candidate for sample in eval_samples for candidate in sample[\"candidates\"] if \"dnr-dnr\" in candidate[\"system\"]] # reward_key not in candidate\n",
    "    for i, todo in enumerate(tqdm.tqdm_notebook(todos, desc=f\"Calculating {reward_key} scores\")):\n",
    "        calculate_reward(todo, reward_model, reward_key)\n",
    "\n",
    "        if i%10 == 0 or i == len(todos)-1:\n",
    "            with open(\"data/lamp_editing_benchmark.json\", \"w\") as f:\n",
    "                json.dump(eval_samples, f, indent=4)\n"
   ]
  },
  {
   "cell_type": "code",
   "execution_count": 3,
   "metadata": {},
   "outputs": [
    {
     "name": "stderr",
     "output_type": "stream",
     "text": [
      "/tmp/ipykernel_224043/1885601653.py:35: TqdmDeprecationWarning: This function will be removed in tqdm==5.0.0\n",
      "Please use `tqdm.notebook.tqdm` instead of `tqdm.tqdm_notebook`\n",
      "  for i, (c1, c2, sample_id) in enumerate(tqdm.tqdm_notebook(todo_pairs)):\n"
     ]
    },
    {
     "data": {
      "application/vnd.jupyter.widget-view+json": {
       "model_id": "512330a62e3441ac92e89f8ef7690f34",
       "version_major": 2,
       "version_minor": 0
      },
      "text/plain": [
       "  0%|          | 0/73 [00:00<?, ?it/s]"
      ]
     },
     "metadata": {},
     "output_type": "display_data"
    }
   ],
   "source": [
    "from utils import load_env_vars\n",
    "load_env_vars()\n",
    "from llms import generate_json\n",
    "import tqdm, json, itertools, time\n",
    "\n",
    "with open(\"prompts/pairwise_pref.txt\", \"r\") as f:\n",
    "    pairwise_pref_prompt = f.read()\n",
    "\n",
    "REWARD_MODEL = \"ft:gpt-4o-2024-08-06:salesforce-research:lamp-4o-p:AYKM53Ac\"\n",
    "\n",
    "def calculate_pairwise_pref(candidate1, candidate2):\n",
    "    pref_ab = generate_json([{\"role\": \"user\", \"content\": pairwise_pref_prompt}], model=REWARD_MODEL, variables={\"PARAGRAPH1\": candidate1[\"text\"], \"PARAGRAPH2\": candidate2[\"text\"]}, step=\"lamp-editing-pairwise-pref\")\n",
    "    pref_ba = generate_json([{\"role\": \"user\", \"content\": pairwise_pref_prompt}], model=REWARD_MODEL, variables={\"PARAGRAPH1\": candidate2[\"text\"], \"PARAGRAPH2\": candidate1[\"text\"]}, step=\"lamp-editing-pairwise-pref\")\n",
    "\n",
    "    if pref_ab[\"preference\"] == \"1\" and pref_ba[\"preference\"] == \"2\":\n",
    "        return 1\n",
    "    elif pref_ab[\"preference\"] == \"2\" and pref_ba[\"preference\"] == \"1\":\n",
    "        return 2\n",
    "    else:\n",
    "        return 0 # inconsistent result\n",
    "\n",
    "with open(\"data/lamp_editing_benchmark.json\", \"r\") as f:\n",
    "    eval_samples = json.load(f)\n",
    "\n",
    "id2sample = {sample[\"id\"]: sample for sample in eval_samples}\n",
    "\n",
    "todo_pairs = []\n",
    "for sample in eval_samples:\n",
    "    candidates = sample[\"candidates\"]\n",
    "    pairwise_prefs = sample.get(\"pairwise_prefs\", {})\n",
    "    for c1, c2 in itertools.combinations(candidates, 2):\n",
    "        if f\"{c1['system']}__{c2['system']}\" not in pairwise_prefs:\n",
    "            todo_pairs.append((c1, c2, sample[\"id\"]))\n",
    "\n",
    "for i, (c1, c2, sample_id) in enumerate(tqdm.tqdm_notebook(todo_pairs)):\n",
    "    sample = id2sample[sample_id]\n",
    "    preference = calculate_pairwise_pref(c1, c2)\n",
    "    if \"pairwise_prefs\" not in sample:\n",
    "        sample[\"pairwise_prefs\"] = {}\n",
    "    sample[\"pairwise_prefs\"][f\"{c1['system']}__{c2['system']}\"] = preference\n",
    "\n",
    "    if i%10 == 0 or i == len(todo_pairs)-1:\n",
    "        with open(\"data/lamp_editing_benchmark.json\", \"w\") as f:\n",
    "            json.dump(eval_samples, f, indent=4)\n"
   ]
  },
  {
   "cell_type": "markdown",
   "metadata": {},
   "source": [
    "## 3.3 Run Pangram Detectability Results"
   ]
  },
  {
   "cell_type": "code",
   "execution_count": 4,
   "metadata": {},
   "outputs": [
    {
     "name": "stderr",
     "output_type": "stream",
     "text": [
      "/tmp/ipykernel_224043/2057480432.py:11: TqdmDeprecationWarning: This function will be removed in tqdm==5.0.0\n",
      "Please use `tqdm.notebook.tqdm` instead of `tqdm.tqdm_notebook`\n",
      "  for i, candidate in enumerate(tqdm.tqdm_notebook(todos)):\n"
     ]
    },
    {
     "data": {
      "application/vnd.jupyter.widget-view+json": {
       "model_id": "620d7ef8fa94492aa88dafdebbbc4a56",
       "version_major": 2,
       "version_minor": 0
      },
      "text/plain": [
       "  0%|          | 0/201 [00:00<?, ?it/s]"
      ]
     },
     "metadata": {},
     "output_type": "display_data"
    }
   ],
   "source": [
    "from model_pangram import PangramModel\n",
    "pangram_model = PangramModel()\n",
    "\n",
    "pangram_key = \"pangram\"\n",
    "\n",
    "with open(\"data/lamp_editing_benchmark.json\", \"r\") as f:\n",
    "    eval_samples = json.load(f)\n",
    "\n",
    "todos = [candidate for sample in eval_samples for candidate in sample[\"candidates\"] if pangram_key not in candidate]\n",
    "\n",
    "for i, candidate in enumerate(tqdm.tqdm_notebook(todos)):\n",
    "    candidate[pangram_key] = pangram_model.predict(candidate[\"text\"])\n",
    "\n",
    "    if i%10 == 0 or i == len(todos)-1:\n",
    "        with open(\"data/lamp_editing_benchmark.json\", \"w\") as f:\n",
    "            json.dump(eval_samples, f, indent=4)\n"
   ]
  },
  {
   "cell_type": "markdown",
   "metadata": {},
   "source": [
    "# Print Results\n"
   ]
  },
  {
   "cell_type": "code",
   "execution_count": 9,
   "metadata": {},
   "outputs": [
    {
     "data": {
      "text/html": [
       "<div>\n",
       "<style scoped>\n",
       "    .dataframe tbody tr th:only-of-type {\n",
       "        vertical-align: middle;\n",
       "    }\n",
       "\n",
       "    .dataframe tbody tr th {\n",
       "        vertical-align: top;\n",
       "    }\n",
       "\n",
       "    .dataframe thead th {\n",
       "        text-align: right;\n",
       "    }\n",
       "</style>\n",
       "<table border=\"1\" class=\"dataframe\">\n",
       "  <thead>\n",
       "    <tr style=\"text-align: right;\">\n",
       "      <th></th>\n",
       "      <th>N</th>\n",
       "      <th>Elo_score</th>\n",
       "      <th>R_score1</th>\n",
       "      <th>R_score2</th>\n",
       "      <th>R_score3</th>\n",
       "      <th>pangram</th>\n",
       "      <th>Lev_dist</th>\n",
       "      <th>Num_chars</th>\n",
       "    </tr>\n",
       "    <tr>\n",
       "      <th>system</th>\n",
       "      <th></th>\n",
       "      <th></th>\n",
       "      <th></th>\n",
       "      <th></th>\n",
       "      <th></th>\n",
       "      <th></th>\n",
       "      <th></th>\n",
       "      <th></th>\n",
       "    </tr>\n",
       "  </thead>\n",
       "  <tbody>\n",
       "    <tr>\n",
       "      <th>lamp-4o-dnr-dnr</th>\n",
       "      <td>201</td>\n",
       "      <td>1396.701</td>\n",
       "      <td>5.935</td>\n",
       "      <td>5.766</td>\n",
       "      <td>5.791</td>\n",
       "      <td>3.927</td>\n",
       "      <td>494.697</td>\n",
       "      <td>1023.159</td>\n",
       "    </tr>\n",
       "    <tr>\n",
       "      <th>human_edited</th>\n",
       "      <td>201</td>\n",
       "      <td>1223.502</td>\n",
       "      <td>6.512</td>\n",
       "      <td>6.219</td>\n",
       "      <td>6.169</td>\n",
       "      <td>7.977</td>\n",
       "      <td>521.468</td>\n",
       "      <td>1107.955</td>\n",
       "    </tr>\n",
       "    <tr>\n",
       "      <th>lamp-4o-dnr</th>\n",
       "      <td>201</td>\n",
       "      <td>1057.362</td>\n",
       "      <td>5.881</td>\n",
       "      <td>5.547</td>\n",
       "      <td>5.527</td>\n",
       "      <td>0.042</td>\n",
       "      <td>319.244</td>\n",
       "      <td>1094.547</td>\n",
       "    </tr>\n",
       "    <tr>\n",
       "      <th>edited_lamp-4o-cot</th>\n",
       "      <td>201</td>\n",
       "      <td>1003.437</td>\n",
       "      <td>5.985</td>\n",
       "      <td>5.682</td>\n",
       "      <td>5.637</td>\n",
       "      <td>0.303</td>\n",
       "      <td>344.622</td>\n",
       "      <td>1095.796</td>\n",
       "    </tr>\n",
       "    <tr>\n",
       "      <th>fs_edited</th>\n",
       "      <td>201</td>\n",
       "      <td>927.593</td>\n",
       "      <td>5.512</td>\n",
       "      <td>4.736</td>\n",
       "      <td>4.736</td>\n",
       "      <td>0.037</td>\n",
       "      <td>427.129</td>\n",
       "      <td>1081.567</td>\n",
       "    </tr>\n",
       "    <tr>\n",
       "      <th>ai_draft</th>\n",
       "      <td>201</td>\n",
       "      <td>391.406</td>\n",
       "      <td>5.194</td>\n",
       "      <td>3.990</td>\n",
       "      <td>3.990</td>\n",
       "      <td>0.000</td>\n",
       "      <td>0.000</td>\n",
       "      <td>1223.980</td>\n",
       "    </tr>\n",
       "  </tbody>\n",
       "</table>\n",
       "</div>"
      ],
      "text/plain": [
       "                      N  Elo_score  R_score1  R_score2  R_score3  pangram  \\\n",
       "system                                                                      \n",
       "lamp-4o-dnr-dnr     201   1396.701     5.935     5.766     5.791    3.927   \n",
       "human_edited        201   1223.502     6.512     6.219     6.169    7.977   \n",
       "lamp-4o-dnr         201   1057.362     5.881     5.547     5.527    0.042   \n",
       "edited_lamp-4o-cot  201   1003.437     5.985     5.682     5.637    0.303   \n",
       "fs_edited           201    927.593     5.512     4.736     4.736    0.037   \n",
       "ai_draft            201    391.406     5.194     3.990     3.990    0.000   \n",
       "\n",
       "                    Lev_dist  Num_chars  \n",
       "system                                   \n",
       "lamp-4o-dnr-dnr      494.697   1023.159  \n",
       "human_edited         521.468   1107.955  \n",
       "lamp-4o-dnr          319.244   1094.547  \n",
       "edited_lamp-4o-cot   344.622   1095.796  \n",
       "fs_edited            427.129   1081.567  \n",
       "ai_draft               0.000   1223.980  "
      ]
     },
     "execution_count": 9,
     "metadata": {},
     "output_type": "execute_result"
    }
   ],
   "source": [
    "import pandas as pd, json, numpy as np, itertools, Levenshtein\n",
    "from collections import defaultdict\n",
    "from utils_elo import EloRating\n",
    "\n",
    "elo = EloRating(initial_rating=1000)\n",
    "\n",
    "# print(elo.get_ratings())\n",
    "\n",
    "with open(\"data/lamp_editing_benchmark.json\", \"r\") as f:\n",
    "    eval_samples = json.load(f)\n",
    "\n",
    "\n",
    "for sample in eval_samples:\n",
    "    ai_draft = [c for c in sample[\"candidates\"] if \"ai_draft\" in c[\"system\"]][0][\"text\"]\n",
    "    for candidate in sample[\"candidates\"]:\n",
    "        candidate[\"Lev_dist\"] = Levenshtein.distance(ai_draft, candidate[\"text\"])\n",
    "\n",
    "for sample in eval_samples:\n",
    "    for c1, c2 in itertools.combinations(sample[\"candidates\"], 2):\n",
    "        system1, system2 = c1[\"system\"], c2[\"system\"]\n",
    "        pref = sample[\"pairwise_prefs\"][f\"{system1}__{system2}\"]\n",
    "        score = 1.0 if pref == 1 else 0.0 if pref == 2 else 0.5\n",
    "        elo.update_rating(system1, system2, score)\n",
    "\n",
    "system_candidates = defaultdict(list)\n",
    "\n",
    "candidates_scored = [candidate for sample in eval_samples for candidate in sample[\"candidates\"]]\n",
    "for candidate in candidates_scored:\n",
    "    system_candidates[candidate[\"system\"]].append(candidate)\n",
    "\n",
    "elo_scores = elo.get_ratings()\n",
    "\n",
    "results = [{\"system\": system, \"N\": len(candidates),\n",
    "            \"Elo_score\": elo_scores[system],\n",
    "            \"R_score1\": np.mean([candidate[\"score\"] for candidate in candidates]),\n",
    "            \"R_score2\": np.mean([candidate[\"r-score\"] for candidate in candidates]),\n",
    "            \"R_score3\": np.mean([candidate[\"r3-score\"] for candidate in candidates]),\n",
    "            \"pangram\": 100.0 * np.mean([1.0 - candidate[\"pangram\"][\"ai_likelihood\"] for candidate in candidates]),\n",
    "            \"Lev_dist\": np.mean([candidate[\"Lev_dist\"] for candidate in candidates]),\n",
    "            \"Num_chars\": np.mean([len(candidate[\"text\"]) for candidate in candidates])\n",
    "            }\n",
    "            for system, candidates in system_candidates.items()]\n",
    "\n",
    "pd.DataFrame(results).sort_values(by=\"Elo_score\", ascending=False).round(3).set_index(\"system\")"
   ]
  },
  {
   "cell_type": "code",
   "execution_count": 4,
   "metadata": {},
   "outputs": [
    {
     "data": {
      "text/html": [
       "<style type=\"text/css\">\n",
       "#T_2bef1_row0_col0, #T_2bef1_row1_col1, #T_2bef1_row2_col2, #T_2bef1_row3_col3, #T_2bef1_row4_col4, #T_2bef1_row5_col5 {\n",
       "  background-color: #000000;\n",
       "  color: #f1f1f1;\n",
       "}\n",
       "#T_2bef1_row0_col1, #T_2bef1_row0_col2, #T_2bef1_row0_col3, #T_2bef1_row0_col4, #T_2bef1_row0_col5, #T_2bef1_row1_col0 {\n",
       "  background-color: #f7fbff;\n",
       "  color: #000000;\n",
       "}\n",
       "#T_2bef1_row1_col2 {\n",
       "  background-color: #dce9f6;\n",
       "  color: #000000;\n",
       "}\n",
       "#T_2bef1_row1_col3 {\n",
       "  background-color: #e6f0f9;\n",
       "  color: #000000;\n",
       "}\n",
       "#T_2bef1_row1_col4 {\n",
       "  background-color: #ecf4fb;\n",
       "  color: #000000;\n",
       "}\n",
       "#T_2bef1_row1_col5, #T_2bef1_row3_col5 {\n",
       "  background-color: #f1f7fd;\n",
       "  color: #000000;\n",
       "}\n",
       "#T_2bef1_row2_col0, #T_2bef1_row3_col0, #T_2bef1_row4_col0, #T_2bef1_row4_col5, #T_2bef1_row5_col0, #T_2bef1_row5_col1, #T_2bef1_row5_col2, #T_2bef1_row5_col3, #T_2bef1_row5_col4 {\n",
       "  background-color: #6aaed6;\n",
       "  color: #f1f1f1;\n",
       "}\n",
       "#T_2bef1_row2_col1 {\n",
       "  background-color: #99c7e0;\n",
       "  color: #000000;\n",
       "}\n",
       "#T_2bef1_row2_col3 {\n",
       "  background-color: #ccdff1;\n",
       "  color: #000000;\n",
       "}\n",
       "#T_2bef1_row2_col4 {\n",
       "  background-color: #c9ddf0;\n",
       "  color: #000000;\n",
       "}\n",
       "#T_2bef1_row2_col5 {\n",
       "  background-color: #caddf0;\n",
       "  color: #000000;\n",
       "}\n",
       "#T_2bef1_row3_col1 {\n",
       "  background-color: #8abfdd;\n",
       "  color: #000000;\n",
       "}\n",
       "#T_2bef1_row3_col2 {\n",
       "  background-color: #aacfe5;\n",
       "  color: #000000;\n",
       "}\n",
       "#T_2bef1_row3_col4 {\n",
       "  background-color: #c4daee;\n",
       "  color: #000000;\n",
       "}\n",
       "#T_2bef1_row4_col1 {\n",
       "  background-color: #77b5d9;\n",
       "  color: #000000;\n",
       "}\n",
       "#T_2bef1_row4_col2 {\n",
       "  background-color: #94c4df;\n",
       "  color: #000000;\n",
       "}\n",
       "#T_2bef1_row4_col3 {\n",
       "  background-color: #abd0e6;\n",
       "  color: #000000;\n",
       "}\n",
       "</style>\n",
       "<table id=\"T_2bef1\">\n",
       "  <thead>\n",
       "    <tr>\n",
       "      <th class=\"blank level0\" >&nbsp;</th>\n",
       "      <th id=\"T_2bef1_level0_col0\" class=\"col_heading level0 col0\" >ai_draft</th>\n",
       "      <th id=\"T_2bef1_level0_col1\" class=\"col_heading level0 col1\" >fs_edited</th>\n",
       "      <th id=\"T_2bef1_level0_col2\" class=\"col_heading level0 col2\" >edited_lamp-4o-cot</th>\n",
       "      <th id=\"T_2bef1_level0_col3\" class=\"col_heading level0 col3\" >lamp-4o-dnr</th>\n",
       "      <th id=\"T_2bef1_level0_col4\" class=\"col_heading level0 col4\" >human_edited</th>\n",
       "      <th id=\"T_2bef1_level0_col5\" class=\"col_heading level0 col5\" >lamp-4o-dnr-dnr</th>\n",
       "    </tr>\n",
       "    <tr>\n",
       "      <th class=\"index_name level0\" >system1</th>\n",
       "      <th class=\"blank col0\" >&nbsp;</th>\n",
       "      <th class=\"blank col1\" >&nbsp;</th>\n",
       "      <th class=\"blank col2\" >&nbsp;</th>\n",
       "      <th class=\"blank col3\" >&nbsp;</th>\n",
       "      <th class=\"blank col4\" >&nbsp;</th>\n",
       "      <th class=\"blank col5\" >&nbsp;</th>\n",
       "    </tr>\n",
       "  </thead>\n",
       "  <tbody>\n",
       "    <tr>\n",
       "      <th id=\"T_2bef1_level0_row0\" class=\"row_heading level0 row0\" >ai_draft</th>\n",
       "      <td id=\"T_2bef1_row0_col0\" class=\"data row0 col0\" >nan</td>\n",
       "      <td id=\"T_2bef1_row0_col1\" class=\"data row0 col1\" >1.8</td>\n",
       "      <td id=\"T_2bef1_row0_col2\" class=\"data row0 col2\" >0.0</td>\n",
       "      <td id=\"T_2bef1_row0_col3\" class=\"data row0 col3\" >0.0</td>\n",
       "      <td id=\"T_2bef1_row0_col4\" class=\"data row0 col4\" >0.0</td>\n",
       "      <td id=\"T_2bef1_row0_col5\" class=\"data row0 col5\" >0.0</td>\n",
       "    </tr>\n",
       "    <tr>\n",
       "      <th id=\"T_2bef1_level0_row1\" class=\"row_heading level0 row1\" >fs_edited</th>\n",
       "      <td id=\"T_2bef1_row1_col0\" class=\"data row1 col0\" >98.2</td>\n",
       "      <td id=\"T_2bef1_row1_col1\" class=\"data row1 col1\" >nan</td>\n",
       "      <td id=\"T_2bef1_row1_col2\" class=\"data row1 col2\" >23.9</td>\n",
       "      <td id=\"T_2bef1_row1_col3\" class=\"data row1 col3\" >17.0</td>\n",
       "      <td id=\"T_2bef1_row1_col4\" class=\"data row1 col4\" >7.6</td>\n",
       "      <td id=\"T_2bef1_row1_col5\" class=\"data row1 col5\" >2.2</td>\n",
       "    </tr>\n",
       "    <tr>\n",
       "      <th id=\"T_2bef1_level0_row2\" class=\"row_heading level0 row2\" >edited_lamp-4o-cot</th>\n",
       "      <td id=\"T_2bef1_row2_col0\" class=\"data row2 col0\" >100.0</td>\n",
       "      <td id=\"T_2bef1_row2_col1\" class=\"data row2 col1\" >76.1</td>\n",
       "      <td id=\"T_2bef1_row2_col2\" class=\"data row2 col2\" >nan</td>\n",
       "      <td id=\"T_2bef1_row2_col3\" class=\"data row2 col3\" >42.9</td>\n",
       "      <td id=\"T_2bef1_row2_col4\" class=\"data row2 col4\" >31.9</td>\n",
       "      <td id=\"T_2bef1_row2_col5\" class=\"data row2 col5\" >15.1</td>\n",
       "    </tr>\n",
       "    <tr>\n",
       "      <th id=\"T_2bef1_level0_row3\" class=\"row_heading level0 row3\" >lamp-4o-dnr</th>\n",
       "      <td id=\"T_2bef1_row3_col0\" class=\"data row3 col0\" >100.0</td>\n",
       "      <td id=\"T_2bef1_row3_col1\" class=\"data row3 col1\" >83.0</td>\n",
       "      <td id=\"T_2bef1_row3_col2\" class=\"data row3 col2\" >57.1</td>\n",
       "      <td id=\"T_2bef1_row3_col3\" class=\"data row3 col3\" >nan</td>\n",
       "      <td id=\"T_2bef1_row3_col4\" class=\"data row3 col4\" >34.6</td>\n",
       "      <td id=\"T_2bef1_row3_col5\" class=\"data row3 col5\" >2.2</td>\n",
       "    </tr>\n",
       "    <tr>\n",
       "      <th id=\"T_2bef1_level0_row4\" class=\"row_heading level0 row4\" >human_edited</th>\n",
       "      <td id=\"T_2bef1_row4_col0\" class=\"data row4 col0\" >100.0</td>\n",
       "      <td id=\"T_2bef1_row4_col1\" class=\"data row4 col1\" >92.4</td>\n",
       "      <td id=\"T_2bef1_row4_col2\" class=\"data row4 col2\" >68.1</td>\n",
       "      <td id=\"T_2bef1_row4_col3\" class=\"data row4 col3\" >65.4</td>\n",
       "      <td id=\"T_2bef1_row4_col4\" class=\"data row4 col4\" >nan</td>\n",
       "      <td id=\"T_2bef1_row4_col5\" class=\"data row4 col5\" >32.5</td>\n",
       "    </tr>\n",
       "    <tr>\n",
       "      <th id=\"T_2bef1_level0_row5\" class=\"row_heading level0 row5\" >lamp-4o-dnr-dnr</th>\n",
       "      <td id=\"T_2bef1_row5_col0\" class=\"data row5 col0\" >100.0</td>\n",
       "      <td id=\"T_2bef1_row5_col1\" class=\"data row5 col1\" >97.8</td>\n",
       "      <td id=\"T_2bef1_row5_col2\" class=\"data row5 col2\" >84.9</td>\n",
       "      <td id=\"T_2bef1_row5_col3\" class=\"data row5 col3\" >97.8</td>\n",
       "      <td id=\"T_2bef1_row5_col4\" class=\"data row5 col4\" >67.5</td>\n",
       "      <td id=\"T_2bef1_row5_col5\" class=\"data row5 col5\" >nan</td>\n",
       "    </tr>\n",
       "  </tbody>\n",
       "</table>\n"
      ],
      "text/plain": [
       "<pandas.io.formats.style.Styler at 0x70bb2169ee20>"
      ]
     },
     "metadata": {},
     "output_type": "display_data"
    },
    {
     "data": {
      "image/png": "[encoded data removed]",
      "text/plain": [
       "<Figure size 720x1080 with 1 Axes>"
      ]
     },
     "metadata": {
      "needs_background": "light"
     },
     "output_type": "display_data"
    }
   ],
   "source": [
    "# Print Pairwise Win-Rates\n",
    "from matplotlib import pyplot as plt\n",
    "from collections import Counter\n",
    "\n",
    "systems = set([candidate[\"system\"] for sample in eval_samples for candidate in sample[\"candidates\"]])\n",
    "\n",
    "def reverse_pairwise_pref(pref):\n",
    "    return 2 if pref == 1 else 1 if pref == 2 else 0\n",
    "\n",
    "pairwise_prefs = defaultdict(list)\n",
    "for sample in eval_samples:\n",
    "    for c1, c2 in itertools.combinations(sample[\"candidates\"], 2):\n",
    "        if f\"{c1['system']}__{c2['system']}\" in sample.get(\"pairwise_prefs\", {}):\n",
    "            pairwise_prefs[(c1[\"system\"], c2[\"system\"])].append(sample[\"pairwise_prefs\"][f\"{c1['system']}__{c2['system']}\"])\n",
    "            pairwise_prefs[(c2[\"system\"], c1[\"system\"])].append(reverse_pairwise_pref(sample[\"pairwise_prefs\"][f\"{c1['system']}__{c2['system']}\"]))\n",
    "\n",
    "win_rates_table = []\n",
    "\n",
    "systems = list(set([system for (system1, system2), prefs in pairwise_prefs.items() for system in [system1, system2]]))\n",
    "system_avg_win_rates = {system1: np.sum([pairwise_prefs[(system1, system2)].count(1) for system2 in systems]) for system1 in systems}\n",
    "# print(system_avg_win_rates)\n",
    "systems = sorted(systems, key=lambda x: system_avg_win_rates[x])\n",
    "\n",
    "for system1 in systems:\n",
    "    table_row = {\"system1\": system1}\n",
    "    for system2 in systems:\n",
    "        prefs = pairwise_prefs[(system1, system2)]\n",
    "        if len(prefs) == 0:\n",
    "            table_row[system2] = np.nan\n",
    "        else:\n",
    "            pref_counts = Counter(prefs)\n",
    "            # print(system1, system2, pref_counts)\n",
    "            table_row[system2] = 100.0 * pref_counts[1] / (pref_counts[1] + pref_counts[2])\n",
    "    win_rates_table.append(table_row)\n",
    "\n",
    "display(pd.DataFrame(win_rates_table).set_index(\"system1\").style.background_gradient(cmap=\"Blues\", low=0.0, high=1).format(\"{:.1f}\"))\n",
    "\n",
    "# let's plot the full win/loss/tie distributions\n",
    "\n",
    "all_pairs = list(itertools.combinations(systems[::-1], 2))\n",
    "# we need to plot them as horizontal bars\n",
    "\n",
    "colors = [\"#6060aa\", \"#a0a0a0\", \"#aa6060\"]\n",
    "labels = [\"win\", \"tie\", \"loss\"]\n",
    "lefts = [0.0] * len(all_pairs)\n",
    "# create a plot with len(all_pairs) rows\n",
    "plt.figure(figsize=(10, len(all_pairs)))\n",
    "for cat_idx, cat in enumerate(labels):\n",
    "    for row_idx, (system1, system2) in enumerate(all_pairs):\n",
    "        prefs = pairwise_prefs[(system1, system2)]\n",
    "        pref_counts = Counter(prefs)\n",
    "        val = 1 if cat == \"win\" else 2 if cat == \"loss\" else 0\n",
    "\n",
    "        perc = 100.0 * pref_counts[val] / sum(pref_counts.values())\n",
    "\n",
    "        plt.barh([row_idx], [perc], color=colors[cat_idx], left=lefts[row_idx])\n",
    "        if perc > 2.0:\n",
    "            plt.text(lefts[row_idx]+perc/2, row_idx, f\"{perc:.1f}%\", color=\"white\", ha=\"center\", va=\"center\", fontweight=\"bold\")\n",
    "        lefts[row_idx] += perc\n",
    "\n",
    "\n",
    "y_ticks = [f\"{system1} vs {system2}\" for system1, system2 in all_pairs]\n",
    "plt.yticks(range(len(all_pairs)), y_ticks, fontsize=16)\n",
    "\n",
    "# put it below, centered on the x-axis\n",
    "# should have a title: Win-Rate by Left System\n",
    "plt.legend([plt.Line2D([0], [0], color=color, lw=4) for color in colors], labels, ncol=3, loc=\"lower center\", bbox_to_anchor=(0.5, -0.15), fontsize=16, title=\"Win-Rate by Left System\")\n",
    "plt.show()\n",
    "\n"
   ]
  },
  {
   "cell_type": "code",
   "execution_count": 7,
   "metadata": {},
   "outputs": [
    {
     "name": "stdout",
     "output_type": "stream",
     "text": [
      "------\n",
      "fs_edited edited_lamp-4o-cot lamp-4o-dnr-dnr\n",
      "fs_edited vs. edited_lamp-4o-cot: 2\n",
      "fs_edited vs. lamp-4o-dnr-dnr: 0\n",
      "edited_lamp-4o-cot vs. lamp-4o-dnr-dnr: 2\n",
      "------\n",
      "human_edited edited_lamp-4o-cot lamp-4o-dnr-dnr\n",
      "human_edited vs. edited_lamp-4o-cot: 1\n",
      "human_edited vs. lamp-4o-dnr-dnr: 0\n",
      "edited_lamp-4o-cot vs. lamp-4o-dnr-dnr: 1\n",
      "Consistency/Transitivity Score: 99.95%\n"
     ]
    }
   ],
   "source": [
    "# calculate three-way consistency per sample:\n",
    "def three_way_consistency(p12, p13, p23):\n",
    "    p12_simple = 1 if p12 == 1 else -1 if p12 == 2 else 0\n",
    "    p13_simple = 1 if p13 == 1 else -1 if p13 == 2 else 0\n",
    "    p23_simple = 1 if p23 == 1 else -1 if p23 == 2 else 0\n",
    "    if p12_simple * p23_simple > 0:\n",
    "        return p12_simple * p13_simple > 0 and p23_simple * p13_simple > 0\n",
    "    return True\n",
    "\n",
    "consistency_scores = []\n",
    "for sample in eval_samples:\n",
    "    for c1, c2, c3 in itertools.combinations(sample[\"candidates\"], 3):\n",
    "        system1, system2, system3 = c1[\"system\"], c2[\"system\"], c3[\"system\"]\n",
    "        # check consistency \n",
    "        p12 = sample[\"pairwise_prefs\"][f\"{system1}__{system2}\"]\n",
    "        p13 = sample[\"pairwise_prefs\"][f\"{system1}__{system3}\"]\n",
    "        p23 = sample[\"pairwise_prefs\"][f\"{system2}__{system3}\"]\n",
    "        consistent = three_way_consistency(p12, p13, p23)\n",
    "        consistency_scores.append(1 if consistent else 0)\n",
    "        if not consistent:\n",
    "            print(\"------\")\n",
    "            print(system1, system2, system3)\n",
    "            print(f\"{system1} vs. {system2}: {p12}\")\n",
    "            print(f\"{system1} vs. {system3}: {p13}\")\n",
    "            print(f\"{system2} vs. {system3}: {p23}\")\n",
    "        # print(f\"{system2} vs. {system3}: {p23}\")\n",
    "\n",
    "        # print(p12, p13, p23)\n",
    "\n",
    "print(f\"Consistency/Transitivity Score: {100.0 * np.mean(consistency_scores):.2f}%\")\n"
   ]
  }
 ],
 "metadata": {
  "kernelspec": {
   "display_name": "base",
   "language": "python",
   "name": "python3"
  },
  "language_info": {
   "codemirror_mode": {
    "name": "ipython",
    "version": 3
   },
   "file_extension": ".py",
   "mimetype": "text/x-python",
   "name": "python",
   "nbconvert_exporter": "python",
   "pygments_lexer": "ipython3",
   "version": "3.9.12"
  }
 },
 "nbformat": 4,
 "nbformat_minor": 2
}
